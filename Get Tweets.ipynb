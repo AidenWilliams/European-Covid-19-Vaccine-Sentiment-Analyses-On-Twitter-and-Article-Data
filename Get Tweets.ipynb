{
 "cells": [
  {
   "cell_type": "code",
   "execution_count": 1,
   "metadata": {
    "collapsed": true
   },
   "outputs": [],
   "source": [
    "from DataCollector import Twitter\n",
    "import pandas as pd"
   ]
  },
  {
   "cell_type": "code",
   "execution_count": 11,
   "outputs": [],
   "source": [
    "from decouple import config\n",
    "\n",
    "tweets = Twitter.Tweets(config('TWITTER_API_KEY'),\n",
    "               config('TWITTER_API_SECRET'),\n",
    "               config('TWITTER_ACCESS_TOKEN_KEY'),\n",
    "               config('TWITTER_ACCESS_TOKEN_SECRET'))\n",
    "\n",
    "for i in range(3):\n",
    "    df = pd.read_csv('Data/FilteredTwitterIDs/' + str(i) + '.csv')\n",
    "    ids = df.tweet_id.values.tolist()\n",
    "    for j in [1,2,3,4]:\n",
    "        tweets.addTweets(ids[(j-1)*100:j*100])\n",
    "    tweets.saveJSON('Data/Text/' + str(i))\n"
   ],
   "metadata": {
    "collapsed": false,
    "pycharm": {
     "name": "#%%\n"
    }
   }
  }
 ],
 "metadata": {
  "kernelspec": {
   "display_name": "Python 3",
   "language": "python",
   "name": "python3"
  },
  "language_info": {
   "codemirror_mode": {
    "name": "ipython",
    "version": 2
   },
   "file_extension": ".py",
   "mimetype": "text/x-python",
   "name": "python",
   "nbconvert_exporter": "python",
   "pygments_lexer": "ipython2",
   "version": "2.7.6"
  }
 },
 "nbformat": 4,
 "nbformat_minor": 0
}