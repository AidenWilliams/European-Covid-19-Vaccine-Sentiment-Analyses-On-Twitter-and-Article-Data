{
 "cells": [
  {
   "cell_type": "code",
   "execution_count": 1,
   "metadata": {
    "collapsed": true,
    "pycharm": {
     "name": "#%%\n"
    }
   },
   "outputs": [],
   "source": [
    "from DataCollector import Twitter\n",
    "import pandas as pd\n",
    "from tqdm.notebook import tqdm\n",
    "from decouple import config\n",
    "\n",
    "tweets = Twitter.Tweets(config('TWITTER_API_KEY'),\n",
    "               config('TWITTER_API_SECRET'),\n",
    "               config('TWITTER_ACCESS_TOKEN_KEY'),\n",
    "               config('TWITTER_ACCESS_TOKEN_SECRET'))\n",
    "\n",
    "\n",
    "languages = {\n",
    "                1: 'en',\n",
    "                2: 'es',\n",
    "                3: 'fr',\n",
    "                4: 'de',\n",
    "            }"
   ]
  },
  {
   "cell_type": "code",
   "execution_count": 2,
   "outputs": [
    {
     "data": {
      "text/plain": "  0%|          | 0/3 [00:00<?, ?it/s]",
      "application/vnd.jupyter.widget-view+json": {
       "version_major": 2,
       "version_minor": 0,
       "model_id": "68e91f837bf1479996ddc0622a8fe294"
      }
     },
     "metadata": {},
     "output_type": "display_data"
    },
    {
     "data": {
      "text/plain": "  0%|          | 0/4 [00:00<?, ?it/s]",
      "application/vnd.jupyter.widget-view+json": {
       "version_major": 2,
       "version_minor": 0,
       "model_id": "a83ffe87beaa4b949a3b12942aebb86b"
      }
     },
     "metadata": {},
     "output_type": "display_data"
    },
    {
     "data": {
      "text/plain": "  0%|          | 0/4 [00:00<?, ?it/s]",
      "application/vnd.jupyter.widget-view+json": {
       "version_major": 2,
       "version_minor": 0,
       "model_id": "282e93c79faa4eb7a3eb139499928069"
      }
     },
     "metadata": {},
     "output_type": "display_data"
    },
    {
     "data": {
      "text/plain": "  0%|          | 0/4 [00:00<?, ?it/s]",
      "application/vnd.jupyter.widget-view+json": {
       "version_major": 2,
       "version_minor": 0,
       "model_id": "09dc79adf0704366a399e6e2e2cfd3b5"
      }
     },
     "metadata": {},
     "output_type": "display_data"
    }
   ],
   "source": [
    "for i in tqdm([0,1,2]):\n",
    "    df = pd.read_csv('Data/FilteredTwitterIDs/' + str(i) + '.csv')\n",
    "    ids = df.tweet_id.values.tolist()\n",
    "    for j in tqdm(languages):\n",
    "        for k in range(1,11):\n",
    "            tweets.addTweets(ids[((j-1)*1000)+(k-1)*100:((j-1)*1000)+k*100])\n",
    "        tweets.saveJSON('Data/Text/temp')\n",
    "        if j != 1:\n",
    "            tweets.translate(language=languages[j])\n",
    "        tweets.saveJSON('Data/Text/NotProcessed/' + str(i) + str(j))\n",
    "        tweets.reset()\n",
    "        tweets.loadJSON('Data/Text/temp')\n",
    "        tweets.preProcess(languages[j])\n",
    "        if j != 1:\n",
    "            tweets.translate(language=languages[j])\n",
    "        tweets.saveJSON('Data/Text/Processed/' + str(i) + str(j))\n",
    "        tweets.reset()\n",
    "\n"
   ],
   "metadata": {
    "collapsed": false,
    "pycharm": {
     "name": "#%%\n"
    }
   }
  }
 ],
 "metadata": {
  "kernelspec": {
   "display_name": "Python 3",
   "language": "python",
   "name": "python3"
  },
  "language_info": {
   "codemirror_mode": {
    "name": "ipython",
    "version": 2
   },
   "file_extension": ".py",
   "mimetype": "text/x-python",
   "name": "python",
   "nbconvert_exporter": "python",
   "pygments_lexer": "ipython2",
   "version": "2.7.6"
  }
 },
 "nbformat": 4,
 "nbformat_minor": 0
}