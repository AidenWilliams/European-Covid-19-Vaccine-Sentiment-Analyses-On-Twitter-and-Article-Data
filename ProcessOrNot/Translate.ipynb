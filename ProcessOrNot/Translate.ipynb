{
 "cells": [
  {
   "cell_type": "markdown",
   "source": [
    "# Translation Test\n",
    "\n",
    "In this notebook I test out the google cloud translate api. The code below is based off of the official code sample from\n",
    "the api documentation found [here](https://cloud.google.com/translate/docs/samples/translate-text-with-model)."
   ],
   "metadata": {
    "collapsed": false,
    "pycharm": {
     "name": "#%% md\n"
    }
   }
  },
  {
   "cell_type": "code",
   "execution_count": 2,
   "outputs": [
    {
     "name": "stdout",
     "output_type": "stream",
     "text": [
      "I&#39;m a monkey with big balls\n"
     ]
    }
   ],
   "source": [
    "import six\n",
    "from google.cloud import translate_v2 as translate\n",
    "\n",
    "translate_client = translate.Client.from_service_account_json(\n",
    "        'service_account.json')\n",
    "\n",
    "def translate_text_with_model(text, source_language):\n",
    "    \"\"\"Translates text into the target language.\n",
    "\n",
    "    Make sure your project is allow listed.\n",
    "\n",
    "    source_language must be an ISO 639-1 language code.\n",
    "    See https://g.co/cloud/translate/v2/translate-reference#supported_languages\n",
    "    \"\"\"\n",
    "    if isinstance(text, six.binary_type):\n",
    "        text = text.decode(\"utf-8\")\n",
    "\n",
    "    # Text can also be a sequence of strings, in which case this method\n",
    "    # will return a sequence of results for each text.\n",
    "    return translate_client.translate(text, target_language='en', source_language=source_language)\n",
    "\n",
    "print(translate_text_with_model('Je suis un singe avec de grosses boules', 'fr')[\"translatedText\"])"
   ],
   "metadata": {
    "collapsed": false,
    "pycharm": {
     "name": "#%%\n"
    }
   }
  },
  {
   "cell_type": "markdown",
   "source": [
    "*Excuse my french and the vulgar monkey text, when I got back to documenting this notebook I had already spent my free\n",
    "cloud credits, so changing the test text would have cost me money🦧*"
   ],
   "metadata": {
    "collapsed": false,
    "pycharm": {
     "name": "#%% md\n"
    }
   }
  }
 ],
 "metadata": {
  "kernelspec": {
   "display_name": "Python 3",
   "language": "python",
   "name": "python3"
  },
  "language_info": {
   "codemirror_mode": {
    "name": "ipython",
    "version": 2
   },
   "file_extension": ".py",
   "mimetype": "text/x-python",
   "name": "python",
   "nbconvert_exporter": "python",
   "pygments_lexer": "ipython2",
   "version": "2.7.6"
  }
 },
 "nbformat": 4,
 "nbformat_minor": 0
}