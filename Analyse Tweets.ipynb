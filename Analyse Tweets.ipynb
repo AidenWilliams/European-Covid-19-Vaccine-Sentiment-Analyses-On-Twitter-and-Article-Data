{
 "cells": [
  {
   "cell_type": "code",
   "execution_count": 8,
   "metadata": {
    "collapsed": true
   },
   "outputs": [],
   "source": [
    "import pandas as pd"
   ]
  },
  {
   "cell_type": "code",
   "execution_count": 9,
   "outputs": [
    {
     "data": {
      "text/plain": "                    id                                               text\n0  1344871421877616642  Considerando que me dio COVID19, desaturé y no...\n1  1344872079066324992  En la vida vi gente hdp y muy mentirosa, pero ...\n2  1344872396700987392  China autorizó por primera vez la comercializa...\n3  1344871399408721921  David Gamella, coordinador de musicoterapia, m...\n4  1344871701448949760  ¡Feliz Año Nuevo! Continúe haciendo su parte p...",
      "text/html": "<div>\n<style scoped>\n    .dataframe tbody tr th:only-of-type {\n        vertical-align: middle;\n    }\n\n    .dataframe tbody tr th {\n        vertical-align: top;\n    }\n\n    .dataframe thead th {\n        text-align: right;\n    }\n</style>\n<table border=\"1\" class=\"dataframe\">\n  <thead>\n    <tr style=\"text-align: right;\">\n      <th></th>\n      <th>id</th>\n      <th>text</th>\n    </tr>\n  </thead>\n  <tbody>\n    <tr>\n      <th>0</th>\n      <td>1344871421877616642</td>\n      <td>Considerando que me dio COVID19, desaturé y no...</td>\n    </tr>\n    <tr>\n      <th>1</th>\n      <td>1344872079066324992</td>\n      <td>En la vida vi gente hdp y muy mentirosa, pero ...</td>\n    </tr>\n    <tr>\n      <th>2</th>\n      <td>1344872396700987392</td>\n      <td>China autorizó por primera vez la comercializa...</td>\n    </tr>\n    <tr>\n      <th>3</th>\n      <td>1344871399408721921</td>\n      <td>David Gamella, coordinador de musicoterapia, m...</td>\n    </tr>\n    <tr>\n      <th>4</th>\n      <td>1344871701448949760</td>\n      <td>¡Feliz Año Nuevo! Continúe haciendo su parte p...</td>\n    </tr>\n  </tbody>\n</table>\n</div>"
     },
     "execution_count": 9,
     "metadata": {},
     "output_type": "execute_result"
    }
   ],
   "source": [
    "tweets = pd.read_json('Data/Text/01.json').T\n",
    "\n",
    "tweets.head()"
   ],
   "metadata": {
    "collapsed": false,
    "pycharm": {
     "name": "#%%\n"
    }
   }
  },
  {
   "cell_type": "code",
   "execution_count": 10,
   "outputs": [
    {
     "name": "stderr",
     "output_type": "stream",
     "text": [
      "[nltk_data] Downloading package vader_lexicon to C:\\Users\\Aiden\n",
      "[nltk_data]     Williams\\AppData\\Roaming\\nltk_data...\n",
      "[nltk_data]   Package vader_lexicon is already up-to-date!\n"
     ]
    },
    {
     "data": {
      "text/plain": "True"
     },
     "execution_count": 10,
     "metadata": {},
     "output_type": "execute_result"
    }
   ],
   "source": [
    "import nltk\n",
    "nltk.download('vader_lexicon')"
   ],
   "metadata": {
    "collapsed": false,
    "pycharm": {
     "name": "#%%\n"
    }
   }
  },
  {
   "cell_type": "code",
   "execution_count": 11,
   "outputs": [],
   "source": [
    "from nltk.sentiment.vader import SentimentIntensityAnalyzer as SIA\n",
    "\n",
    "results = []\n",
    "\n",
    "for text in tweets['text']:\n",
    "    pol_score = SIA().polarity_scores(text) # run analysis\n",
    "    pol_score['text'] = text # add headlines for viewing\n",
    "    results.append(pol_score)\n",
    "\n",
    "tweets['Score'] = pd.DataFrame(results)['compound']"
   ],
   "metadata": {
    "collapsed": false,
    "pycharm": {
     "name": "#%%\n"
    }
   }
  },
  {
   "cell_type": "code",
   "execution_count": 12,
   "outputs": [
    {
     "data": {
      "text/plain": "                    id                                               text  \\\n0  1344871421877616642  Considerando que me dio COVID19, desaturé y no...   \n1  1344872079066324992  En la vida vi gente hdp y muy mentirosa, pero ...   \n2  1344872396700987392  China autorizó por primera vez la comercializa...   \n3  1344871399408721921  David Gamella, coordinador de musicoterapia, m...   \n4  1344871701448949760  ¡Feliz Año Nuevo! Continúe haciendo su parte p...   \n\n    Score  \n0 -0.5267  \n1  0.0000  \n2  0.0000  \n3  0.0000  \n4  0.0000  ",
      "text/html": "<div>\n<style scoped>\n    .dataframe tbody tr th:only-of-type {\n        vertical-align: middle;\n    }\n\n    .dataframe tbody tr th {\n        vertical-align: top;\n    }\n\n    .dataframe thead th {\n        text-align: right;\n    }\n</style>\n<table border=\"1\" class=\"dataframe\">\n  <thead>\n    <tr style=\"text-align: right;\">\n      <th></th>\n      <th>id</th>\n      <th>text</th>\n      <th>Score</th>\n    </tr>\n  </thead>\n  <tbody>\n    <tr>\n      <th>0</th>\n      <td>1344871421877616642</td>\n      <td>Considerando que me dio COVID19, desaturé y no...</td>\n      <td>-0.5267</td>\n    </tr>\n    <tr>\n      <th>1</th>\n      <td>1344872079066324992</td>\n      <td>En la vida vi gente hdp y muy mentirosa, pero ...</td>\n      <td>0.0000</td>\n    </tr>\n    <tr>\n      <th>2</th>\n      <td>1344872396700987392</td>\n      <td>China autorizó por primera vez la comercializa...</td>\n      <td>0.0000</td>\n    </tr>\n    <tr>\n      <th>3</th>\n      <td>1344871399408721921</td>\n      <td>David Gamella, coordinador de musicoterapia, m...</td>\n      <td>0.0000</td>\n    </tr>\n    <tr>\n      <th>4</th>\n      <td>1344871701448949760</td>\n      <td>¡Feliz Año Nuevo! Continúe haciendo su parte p...</td>\n      <td>0.0000</td>\n    </tr>\n  </tbody>\n</table>\n</div>"
     },
     "execution_count": 12,
     "metadata": {},
     "output_type": "execute_result"
    }
   ],
   "source": [
    "tweets.head()\n"
   ],
   "metadata": {
    "collapsed": false,
    "pycharm": {
     "name": "#%%\n"
    }
   }
  }
 ],
 "metadata": {
  "kernelspec": {
   "display_name": "Python 3",
   "language": "python",
   "name": "python3"
  },
  "language_info": {
   "codemirror_mode": {
    "name": "ipython",
    "version": 2
   },
   "file_extension": ".py",
   "mimetype": "text/x-python",
   "name": "python",
   "nbconvert_exporter": "python",
   "pygments_lexer": "ipython2",
   "version": "2.7.6"
  }
 },
 "nbformat": 4,
 "nbformat_minor": 0
}