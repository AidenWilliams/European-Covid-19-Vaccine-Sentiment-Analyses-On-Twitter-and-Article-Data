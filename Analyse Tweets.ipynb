{
 "cells": [
  {
   "cell_type": "code",
   "execution_count": 6,
   "metadata": {
    "collapsed": true
   },
   "outputs": [],
   "source": [
    "import pandas as pd\n",
    "import numpy as np\n",
    "from nltk.sentiment.vader import SentimentIntensityAnalyzer as SIA\n",
    "import nltk"
   ]
  },
  {
   "cell_type": "code",
   "execution_count": 7,
   "outputs": [
    {
     "data": {
      "text/plain": "                    id                                               text\n0  1344871490303520771        happy new year covid still much present wbk\n1  1344871405343682564  threat loved ones community lead worry fear sa...\n2  1344871522436046854  gilligan island star tina louise praises late ...\n3  1344871511811887104  obviously looking half empty glass vaccination...\n4  1344871488432861184                                     fuck 2020 sick",
      "text/html": "<div>\n<style scoped>\n    .dataframe tbody tr th:only-of-type {\n        vertical-align: middle;\n    }\n\n    .dataframe tbody tr th {\n        vertical-align: top;\n    }\n\n    .dataframe thead th {\n        text-align: right;\n    }\n</style>\n<table border=\"1\" class=\"dataframe\">\n  <thead>\n    <tr style=\"text-align: right;\">\n      <th></th>\n      <th>id</th>\n      <th>text</th>\n    </tr>\n  </thead>\n  <tbody>\n    <tr>\n      <th>0</th>\n      <td>1344871490303520771</td>\n      <td>happy new year covid still much present wbk</td>\n    </tr>\n    <tr>\n      <th>1</th>\n      <td>1344871405343682564</td>\n      <td>threat loved ones community lead worry fear sa...</td>\n    </tr>\n    <tr>\n      <th>2</th>\n      <td>1344871522436046854</td>\n      <td>gilligan island star tina louise praises late ...</td>\n    </tr>\n    <tr>\n      <th>3</th>\n      <td>1344871511811887104</td>\n      <td>obviously looking half empty glass vaccination...</td>\n    </tr>\n    <tr>\n      <th>4</th>\n      <td>1344871488432861184</td>\n      <td>fuck 2020 sick</td>\n    </tr>\n  </tbody>\n</table>\n</div>"
     },
     "execution_count": 7,
     "metadata": {},
     "output_type": "execute_result"
    }
   ],
   "source": [
    "tweetsENG = pd.read_json('Data/Text/01.json').T\n",
    "\n",
    "tweetsENG.head()"
   ],
   "metadata": {
    "collapsed": false,
    "pycharm": {
     "name": "#%%\n"
    }
   }
  },
  {
   "cell_type": "code",
   "execution_count": 8,
   "outputs": [
    {
     "name": "stderr",
     "output_type": "stream",
     "text": [
      "[nltk_data] Downloading package vader_lexicon to C:\\Users\\Aiden\n",
      "[nltk_data]     Williams\\AppData\\Roaming\\nltk_data...\n",
      "[nltk_data]   Package vader_lexicon is already up-to-date!\n"
     ]
    },
    {
     "data": {
      "text/plain": "True"
     },
     "execution_count": 8,
     "metadata": {},
     "output_type": "execute_result"
    }
   ],
   "source": [
    "nltk.download('vader_lexicon')"
   ],
   "metadata": {
    "collapsed": false,
    "pycharm": {
     "name": "#%%\n"
    }
   }
  },
  {
   "cell_type": "code",
   "execution_count": 9,
   "outputs": [],
   "source": [
    "\n",
    "results = []\n",
    "\n",
    "for text in tweetsENG['text']:\n",
    "    pol_score = SIA().polarity_scores(text) # run analysis\n",
    "    pol_score['text'] = text # add headlines for viewing\n",
    "    results.append(pol_score)\n",
    "\n",
    "tweetsENG['Score'] = pd.DataFrame(results)['compound']"
   ],
   "metadata": {
    "collapsed": false,
    "pycharm": {
     "name": "#%%\n"
    }
   }
  },
  {
   "cell_type": "code",
   "execution_count": 10,
   "outputs": [
    {
     "data": {
      "text/plain": "                    id                                               text  \\\n0  1344871490303520771        happy new year covid still much present wbk   \n1  1344871405343682564  threat loved ones community lead worry fear sa...   \n2  1344871522436046854  gilligan island star tina louise praises late ...   \n3  1344871511811887104  obviously looking half empty glass vaccination...   \n4  1344871488432861184                                     fuck 2020 sick   \n\n    Score  \n0  0.5719  \n1 -0.8176  \n2  0.6597  \n3 -0.2023  \n4 -0.7783  ",
      "text/html": "<div>\n<style scoped>\n    .dataframe tbody tr th:only-of-type {\n        vertical-align: middle;\n    }\n\n    .dataframe tbody tr th {\n        vertical-align: top;\n    }\n\n    .dataframe thead th {\n        text-align: right;\n    }\n</style>\n<table border=\"1\" class=\"dataframe\">\n  <thead>\n    <tr style=\"text-align: right;\">\n      <th></th>\n      <th>id</th>\n      <th>text</th>\n      <th>Score</th>\n    </tr>\n  </thead>\n  <tbody>\n    <tr>\n      <th>0</th>\n      <td>1344871490303520771</td>\n      <td>happy new year covid still much present wbk</td>\n      <td>0.5719</td>\n    </tr>\n    <tr>\n      <th>1</th>\n      <td>1344871405343682564</td>\n      <td>threat loved ones community lead worry fear sa...</td>\n      <td>-0.8176</td>\n    </tr>\n    <tr>\n      <th>2</th>\n      <td>1344871522436046854</td>\n      <td>gilligan island star tina louise praises late ...</td>\n      <td>0.6597</td>\n    </tr>\n    <tr>\n      <th>3</th>\n      <td>1344871511811887104</td>\n      <td>obviously looking half empty glass vaccination...</td>\n      <td>-0.2023</td>\n    </tr>\n    <tr>\n      <th>4</th>\n      <td>1344871488432861184</td>\n      <td>fuck 2020 sick</td>\n      <td>-0.7783</td>\n    </tr>\n  </tbody>\n</table>\n</div>"
     },
     "execution_count": 10,
     "metadata": {},
     "output_type": "execute_result"
    }
   ],
   "source": [
    "tweetsENG.head()"
   ],
   "metadata": {
    "collapsed": false,
    "pycharm": {
     "name": "#%%\n"
    }
   }
  },
  {
   "cell_type": "code",
   "execution_count": 11,
   "outputs": [
    {
     "name": "stdout",
     "output_type": "stream",
     "text": [
      "0.0494123609394314\n"
     ]
    }
   ],
   "source": [
    "print(np.average(tweetsENG['Score']))\n"
   ],
   "metadata": {
    "collapsed": false,
    "pycharm": {
     "name": "#%%\n"
    }
   }
  }
 ],
 "metadata": {
  "kernelspec": {
   "display_name": "Python 3",
   "language": "python",
   "name": "python3"
  },
  "language_info": {
   "codemirror_mode": {
    "name": "ipython",
    "version": 2
   },
   "file_extension": ".py",
   "mimetype": "text/x-python",
   "name": "python",
   "nbconvert_exporter": "python",
   "pygments_lexer": "ipython2",
   "version": "2.7.6"
  }
 },
 "nbformat": 4,
 "nbformat_minor": 0
}