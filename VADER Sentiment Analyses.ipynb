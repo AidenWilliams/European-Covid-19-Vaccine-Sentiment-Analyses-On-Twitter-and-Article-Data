{
 "cells": [
  {
   "cell_type": "code",
   "execution_count": 2,
   "metadata": {
    "collapsed": true
   },
   "outputs": [
    {
     "name": "stderr",
     "output_type": "stream",
     "text": [
      "[nltk_data] Downloading package vader_lexicon to C:\\Users\\Aiden\n",
      "[nltk_data]     Williams\\AppData\\Roaming\\nltk_data...\n",
      "[nltk_data]   Package vader_lexicon is already up-to-date!\n"
     ]
    }
   ],
   "source": [
    "import pandas as pd\n",
    "import numpy as np\n",
    "from nltk.sentiment.vader import SentimentIntensityAnalyzer as SIA\n",
    "import nltk\n",
    "from tqdm.notebook import tqdm\n",
    "from collections import defaultdict\n",
    "import json\n",
    "\n",
    "nltk.download('vader_lexicon')\n",
    "\n",
    "languages = {\n",
    "                1: 'en',\n",
    "                2: 'es',\n",
    "                3: 'fr',\n",
    "                4: 'de',\n",
    "                5: 'nl',\n",
    "                6: 'it',\n",
    "            }\n",
    "\n",
    "months = ['December', 'January', 'February', 'March', 'April', 'May']"
   ]
  },
  {
   "cell_type": "code",
   "execution_count": 2,
   "outputs": [
    {
     "data": {
      "text/plain": "  0%|          | 0/6 [00:00<?, ?it/s]",
      "application/vnd.jupyter.widget-view+json": {
       "version_major": 2,
       "version_minor": 0,
       "model_id": "7b63e4f3b64f44beb5d99dd17efee12d"
      }
     },
     "metadata": {},
     "output_type": "display_data"
    }
   ],
   "source": [
    "LanguageP = defaultdict(lambda: [])\n",
    "for month in tqdm(months):\n",
    "    for day in [0, 1, 2, 3, 4]:\n",
    "        for language in languages:\n",
    "            path = 'Data/Text/' + str(month) + str(day) + languages[language] + '.json'\n",
    "            tweetsP = pd.read_json(path).T\n",
    "            results = []\n",
    "            for text in tweetsP['text']:\n",
    "                if isinstance(text, str):\n",
    "                    pol_score = SIA().polarity_scores(text) # run analysis\n",
    "                    pol_score['text'] = text # add headlines for viewing\n",
    "                    results.append(pol_score)\n",
    "\n",
    "            tweetsP['Score'] = pd.DataFrame(results)['compound']\n",
    "            LanguageP[language].append(np.average(tweetsP['Score']))\n",
    "            tweetsP.to_json('Data/Analyzed/' + str(month) + str(day) + languages[language] + '.json')"
   ],
   "metadata": {
    "collapsed": false,
    "pycharm": {
     "name": "#%%\n"
    }
   }
  },
  {
   "cell_type": "code",
   "execution_count": 3,
   "outputs": [],
   "source": [
    "for l in LanguageP:\n",
    "    _curr_l = LanguageP[l]\n",
    "    curr_l = []\n",
    "    for mean in _curr_l:\n",
    "        if np.isnan(mean):\n",
    "            curr_l.append(0)\n",
    "        else:\n",
    "            curr_l.append(mean)\n",
    "    LanguageP[l] = curr_l\n",
    "\n",
    "to_save = {}\n",
    "for i, tweet in enumerate(LanguageP):\n",
    "    to_save[i] = {'id': tweet, 'text': LanguageP[tweet]}\n",
    "json.dump(to_save, open('Data/MeanSentiment.json', 'w+'))\n"
   ],
   "metadata": {
    "collapsed": false,
    "pycharm": {
     "name": "#%%\n"
    }
   }
  }
 ],
 "metadata": {
  "kernelspec": {
   "display_name": "Python 3",
   "language": "python",
   "name": "python3"
  },
  "language_info": {
   "codemirror_mode": {
    "name": "ipython",
    "version": 2
   },
   "file_extension": ".py",
   "mimetype": "text/x-python",
   "name": "python",
   "nbconvert_exporter": "python",
   "pygments_lexer": "ipython2",
   "version": "2.7.6"
  }
 },
 "nbformat": 4,
 "nbformat_minor": 0
}