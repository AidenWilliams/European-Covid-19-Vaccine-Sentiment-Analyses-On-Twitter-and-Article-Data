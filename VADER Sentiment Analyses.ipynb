{
 "cells": [
  {
   "cell_type": "markdown",
   "source": [
    "# Sentiment Analyses using VADER\n",
    "\n",
    "Using the processed data saved from the Get Tweets notebook, here the VADER sentiment analyzer is used to get the compound\n",
    "sentiment analyses for each tweet. This compound score is added to the Tweet json files and are stored in the Data/Analyzed\n",
    "folder.\n",
    "\n",
    "The mean sentiment is also stored as a json file in the Data folder."
   ],
   "metadata": {
    "collapsed": false
   }
  },
  {
   "cell_type": "code",
   "execution_count": 2,
   "metadata": {
    "collapsed": true
   },
   "outputs": [
    {
     "name": "stderr",
     "output_type": "stream",
     "text": [
      "[nltk_data] Downloading package vader_lexicon to C:\\Users\\Aiden\n",
      "[nltk_data]     Williams\\AppData\\Roaming\\nltk_data...\n",
      "[nltk_data]   Package vader_lexicon is already up-to-date!\n"
     ]
    }
   ],
   "source": [
    "import pandas as pd\n",
    "import numpy as np\n",
    "from nltk.sentiment.vader import SentimentIntensityAnalyzer as SIA\n",
    "import nltk\n",
    "from tqdm.notebook import tqdm\n",
    "from collections import defaultdict\n",
    "import json\n",
    "\n",
    "nltk.download('vader_lexicon')\n",
    "\n",
    "languages = {\n",
    "                1: 'en',\n",
    "                2: 'es',\n",
    "                3: 'fr',\n",
    "                4: 'de',\n",
    "                5: 'nl',\n",
    "                6: 'it',\n",
    "            }\n",
    "\n",
    "months = ['December', 'January', 'February', 'March', 'April', 'May']"
   ]
  },
  {
   "cell_type": "markdown",
   "source": [
    "In the below cell we loop for each tweet text file and get the compound sentiment score. This extra feature is added to\n",
    "the dataframe before being saved in the Data/Analyzed folder."
   ],
   "metadata": {
    "collapsed": false
   }
  },
  {
   "cell_type": "code",
   "execution_count": 2,
   "outputs": [
    {
     "data": {
      "text/plain": "  0%|          | 0/6 [00:00<?, ?it/s]",
      "application/vnd.jupyter.widget-view+json": {
       "version_major": 2,
       "version_minor": 0,
       "model_id": "7b63e4f3b64f44beb5d99dd17efee12d"
      }
     },
     "metadata": {},
     "output_type": "display_data"
    }
   ],
   "source": [
    "LanguageP = defaultdict(lambda: [])\n",
    "for month in tqdm(months):\n",
    "    for day in [0, 1, 2, 3, 4]:\n",
    "        for language in languages:\n",
    "            path = 'Data/Text/' + str(month) + str(day) + languages[language] + '.json'\n",
    "            tweetsP = pd.read_json(path).T\n",
    "            results = []\n",
    "            for text in tweetsP['text']:\n",
    "                if isinstance(text, str):\n",
    "                    pol_score = SIA().polarity_scores(text) # run analysis\n",
    "                    pol_score['text'] = text # add headlines for viewing\n",
    "                    results.append(pol_score)\n",
    "\n",
    "            tweetsP['Score'] = pd.DataFrame(results)['compound']\n",
    "            LanguageP[language].append(np.average(tweetsP['Score']))\n",
    "            tweetsP.to_json('Data/Analyzed/' + str(month) + str(day) + languages[language] + '.json')"
   ],
   "metadata": {
    "collapsed": false,
    "pycharm": {
     "name": "#%%\n"
    }
   }
  },
  {
   "cell_type": "markdown",
   "source": [
    "numpy sometimes returns a NAN, here this is checked and replaced with a 0, equivalent to a true neutral score."
   ],
   "metadata": {
    "collapsed": false,
    "pycharm": {
     "name": "#%% md\n"
    }
   }
  },
  {
   "cell_type": "code",
   "execution_count": 3,
   "outputs": [],
   "source": [
    "for l in LanguageP:\n",
    "    _curr_l = LanguageP[l]\n",
    "    curr_l = []\n",
    "    for mean in _curr_l:\n",
    "        if np.isnan(mean):\n",
    "            curr_l.append(0)\n",
    "        else:\n",
    "            curr_l.append(mean)\n",
    "    LanguageP[l] = curr_l"
   ],
   "metadata": {
    "collapsed": false,
    "pycharm": {
     "name": "#%%\n"
    }
   }
  },
  {
   "cell_type": "markdown",
   "source": [
    "The mean sentiment is stored in this format:\n",
    "\n",
    "{\n",
    "\n",
    "Language 0 : {Month 0: [Day 0 ... Day 29] ... Month 5: [Day 0 ... Day 29]}\n",
    ".\n",
    ".\n",
    ".\n",
    "Language 5 : {Month 0: [Day 0 ... Day 29] ... Month 5: [Day 0 ... Day 29]}\n",
    "\n",
    "}"
   ],
   "metadata": {
    "collapsed": false
   }
  },
  {
   "cell_type": "code",
   "execution_count": null,
   "outputs": [],
   "source": [
    "to_save = {}\n",
    "for i, month in enumerate(LanguageP):\n",
    "    to_save[i] = {'month': month, 'text': LanguageP[month]}\n",
    "json.dump(to_save, open('Data/MeanSentiment.json', 'w+'))\n"
   ],
   "metadata": {
    "collapsed": false,
    "pycharm": {
     "name": "#%%\n"
    }
   }
  }
 ],
 "metadata": {
  "kernelspec": {
   "display_name": "Python 3",
   "language": "python",
   "name": "python3"
  },
  "language_info": {
   "codemirror_mode": {
    "name": "ipython",
    "version": 2
   },
   "file_extension": ".py",
   "mimetype": "text/x-python",
   "name": "python",
   "nbconvert_exporter": "python",
   "pygments_lexer": "ipython2",
   "version": "2.7.6"
  }
 },
 "nbformat": 4,
 "nbformat_minor": 0
}