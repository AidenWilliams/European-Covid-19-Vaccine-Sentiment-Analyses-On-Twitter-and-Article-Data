{
 "cells": [
  {
   "cell_type": "code",
   "execution_count": 1,
   "metadata": {
    "collapsed": true,
    "pycharm": {
     "name": "#%%\n"
    }
   },
   "outputs": [],
   "source": [
    "from matplotlib import pyplot as plt\n",
    "import pandas as pd\n",
    "from tqdm.notebook import tqdm\n",
    "\n",
    "valid_languages = ['en', 'es', 'fr', 'de']\n",
    "\n",
    "def pie(data, labelname):\n",
    "    temp = data[labelname].value_counts()\n",
    "    df = pd.DataFrame({'labels': temp.index,\n",
    "                       'values': temp.values\n",
    "                       })\n",
    "\n",
    "    labels = df['labels']\n",
    "    sizes = df['values']\n",
    "    patches, texts = plt.pie(sizes, shadow=True, startangle=90, pctdistance=1.1, labeldistance=1.2)\n",
    "    plt.legend(patches, labels, loc=\"best\")\n",
    "    plt.axis('equal')\n",
    "    plt.show()\n"
   ]
  },
  {
   "cell_type": "code",
   "execution_count": 2,
   "outputs": [
    {
     "data": {
      "text/plain": "0it [00:00, ?it/s]",
      "application/vnd.jupyter.widget-view+json": {
       "version_major": 2,
       "version_minor": 0,
       "model_id": "3209148692ad4ed7a948f3e1e50bc50d"
      }
     },
     "metadata": {},
     "output_type": "display_data"
    },
    {
     "data": {
      "text/plain": "<Figure size 432x288 with 1 Axes>",
      "image/png": "[encoded data removed]"
     },
     "metadata": {
      "needs_background": "light"
     },
     "output_type": "display_data"
    },
    {
     "data": {
      "text/plain": "0it [00:00, ?it/s]",
      "application/vnd.jupyter.widget-view+json": {
       "version_major": 2,
       "version_minor": 0,
       "model_id": "6a55b6ef348f4466999e1eeaafaf257d"
      }
     },
     "metadata": {},
     "output_type": "display_data"
    },
    {
     "data": {
      "text/plain": "<Figure size 432x288 with 1 Axes>",
      "image/png": "[encoded data removed]"
     },
     "metadata": {
      "needs_background": "light"
     },
     "output_type": "display_data"
    },
    {
     "data": {
      "text/plain": "0it [00:00, ?it/s]",
      "application/vnd.jupyter.widget-view+json": {
       "version_major": 2,
       "version_minor": 0,
       "model_id": "0953539c0d534218bca702743b1d9fe7"
      }
     },
     "metadata": {},
     "output_type": "display_data"
    },
    {
     "data": {
      "text/plain": "<Figure size 432x288 with 1 Axes>",
      "image/png": "[encoded data removed]"
     },
     "metadata": {
      "needs_background": "light"
     },
     "output_type": "display_data"
    }
   ],
   "source": [
    "files = ['Data/pancealab/2021-01-01_clean-dataset.tsv',\n",
    "         'Data/pancealab/2021-02-01_clean-dataset.tsv',\n",
    "         'Data/pancealab/2021-03-01_clean-dataset.tsv']\n",
    "for i, f in enumerate(files):\n",
    "    data = pd.read_csv(f, sep='\\t')\n",
    "    v_counts = data['lang'].value_counts()\n",
    "    # pie(data, 'lang')\n",
    "    valid_data = pd.DataFrame(columns=data.columns)\n",
    "    lang_indices = {}\n",
    "    # add each index to its label\n",
    "    languages = data[\"lang\"]\n",
    "    for j, lang in tqdm(enumerate(languages)):\n",
    "        if lang in valid_languages:\n",
    "            if lang not in lang_indices:\n",
    "                lang_indices[lang] = []\n",
    "            lang_indices[lang].append(j)\n",
    "    for lang in valid_languages:\n",
    "        valid_data = valid_data.append(data.iloc[lang_indices[lang][:100]])\n",
    "    valid_data.to_csv('Data/FilteredTwitterIDs/' + str(i) + '.csv')\n",
    "    v_counts = valid_data['lang'].value_counts()\n",
    "    plt.bar(v_counts.index, v_counts.values)\n",
    "    plt.show()"
   ],
   "metadata": {
    "collapsed": false,
    "pycharm": {
     "name": "#%%\n"
    }
   }
  }
 ],
 "metadata": {
  "kernelspec": {
   "display_name": "Python 3",
   "language": "python",
   "name": "python3"
  },
  "language_info": {
   "codemirror_mode": {
    "name": "ipython",
    "version": 2
   },
   "file_extension": ".py",
   "mimetype": "text/x-python",
   "name": "python",
   "nbconvert_exporter": "python",
   "pygments_lexer": "ipython2",
   "version": "2.7.6"
  }
 },
 "nbformat": 4,
 "nbformat_minor": 0
}