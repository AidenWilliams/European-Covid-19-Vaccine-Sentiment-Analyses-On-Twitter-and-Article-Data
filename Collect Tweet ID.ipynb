{
 "cells": [
  {
   "cell_type": "markdown",
   "source": [
    "# Filtering the Pancealab Twitter Dataset\n",
    "\n",
    "The dataset available on the Pancealab [github repo](https://github.com/thepanacealab/covid19_twitter) is very large\n",
    "and analysing it in its entirety would be expensive, lengthy and out of scope for the project. Instead using this notebook,\n",
    "we can filter the files by selecting a number of tweets and a number of languages. It was decided that 1000 from 6 languages\n",
    "would suffice for this part of the project.\n",
    "\n",
    "English, Spanish and French are considered global languages, to balance this out German, Dutch and Italian tweets are included\n",
    "as well as they are more spoken more in the European continent then on anywhere else on the globe."
   ],
   "metadata": {
    "collapsed": false
   }
  },
  {
   "cell_type": "code",
   "execution_count": 1,
   "metadata": {
    "collapsed": true,
    "pycharm": {
     "name": "#%%\n"
    }
   },
   "outputs": [],
   "source": [
    "import pandas as pd\n",
    "from tqdm.notebook import tqdm\n",
    "import os\n",
    "\n",
    "valid_languages = ['en', 'es', 'fr', 'de' , 'nl', 'it']\n",
    "\n",
    "root = 'Data/pancealab/'\n",
    "if not os.access(root, os.R_OK):\n",
    "    print(\"Check dataroot!!\")"
   ]
  },
  {
   "cell_type": "markdown",
   "source": [
    "In this cell we go over the files in the Data/pancealab/ folder and extract 1000 tweets for each language chosen.\n",
    "\n",
    "Since the method used below has already proven to result in equal distribution of 1000 tweets per language per day, there\n",
    "is no need to visualize the data in any form, since this would just create clutter and useless information."
   ],
   "metadata": {
    "collapsed": false
   }
  },
  {
   "cell_type": "code",
   "execution_count": 2,
   "outputs": [
    {
     "data": {
      "text/plain": "  0%|          | 0/6 [00:00<?, ?it/s]",
      "application/vnd.jupyter.widget-view+json": {
       "version_major": 2,
       "version_minor": 0,
       "model_id": "2c8822aad83b458fa5d2ca26e1aa375a"
      }
     },
     "metadata": {},
     "output_type": "display_data"
    }
   ],
   "source": [
    "for month in tqdm(os.listdir(root)):\n",
    "    monthPath = os.path.join(root, month)\n",
    "    for i, file in enumerate(os.listdir(monthPath)):\n",
    "        file_path = os.path.join(monthPath, file)\n",
    "        data = pd.read_csv(file_path, sep='\\t')\n",
    "        v_counts = data['lang'].value_counts()\n",
    "        valid_data = pd.DataFrame(columns=data.columns)\n",
    "        lang_indices = {}\n",
    "        # add each index to its label\n",
    "        languages = data[\"lang\"]\n",
    "        for j, lang in enumerate(languages):\n",
    "            if lang in valid_languages:\n",
    "                if lang not in lang_indices:\n",
    "                    lang_indices[lang] = []\n",
    "                lang_indices[lang].append(j)\n",
    "        for lang in valid_languages:\n",
    "            valid_data = valid_data.append(data.iloc[lang_indices[lang][:1000]])\n",
    "\n",
    "        valid_data.to_json('Data/FilteredTwitterIDs/' + month + str(i) + '.json')"
   ],
   "metadata": {
    "collapsed": false,
    "pycharm": {
     "name": "#%%\n"
    }
   }
  }
 ],
 "metadata": {
  "kernelspec": {
   "display_name": "Python 3",
   "language": "python",
   "name": "python3"
  },
  "language_info": {
   "codemirror_mode": {
    "name": "ipython",
    "version": 2
   },
   "file_extension": ".py",
   "mimetype": "text/x-python",
   "name": "python",
   "nbconvert_exporter": "python",
   "pygments_lexer": "ipython2",
   "version": "2.7.6"
  }
 },
 "nbformat": 4,
 "nbformat_minor": 0
}